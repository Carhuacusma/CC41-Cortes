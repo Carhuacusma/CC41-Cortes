{
 "cells": [
  {
   "cell_type": "code",
   "execution_count": 2,
   "metadata": {},
   "outputs": [
    {
     "name": "stdin",
     "output_type": "stream",
     "text": [
      "Largo: 5\n",
      "Ancho: 2\n",
      "Numero de piezas: 3\n"
     ]
    },
    {
     "name": "stdout",
     "output_type": "stream",
     "text": [
      "Tamaños separados por comas\n"
     ]
    },
    {
     "name": "stdin",
     "output_type": "stream",
     "text": [
      " 4,5\n",
      " 2,3\n",
      " 1,2\n"
     ]
    },
    {
     "name": "stdout",
     "output_type": "stream",
     "text": [
      "[(4, 5, 20), (2, 3, 6), (1, 2, 2)]\n"
     ]
    }
   ],
   "source": [
    "##input\n",
    "largo = int(input(\"Largo:\"))\n",
    "ancho = int(input(\"Ancho:\"))\n",
    "n = int(input(\"Numero de piezas:\"))\n",
    "print(\"Tamaños separados por comas\")\n",
    "arr = []\n",
    "for i in range(n):\n",
    "    aux = input()\n",
    "    lista = aux.split(',')\n",
    "    lista[0] = int(lista[0])\n",
    "    lista[1] = int(lista[1])\n",
    "    tupla = lista[0]*lista[1], lista[0], lista[1]\n",
    "    arr.append(tupla)\n"
   ]
  },
  {
   "cell_type": "code",
   "execution_count": 2,
   "metadata": {},
   "outputs": [
    {
     "name": "stdout",
     "output_type": "stream",
     "text": [
      "[(1, 5), (3, 2), (1, 4)]\n"
     ]
    }
   ],
   "source": [
    "def algoritmoDante(size, arrRec):\n",
    "    ##arrRec de tripletas\n",
    "    arrRec.sort() ##ordenado por cortes\n",
    "    areaPlancha = size[0]*size[1]\n",
    "    nRec = len(arrRec)\n",
    "    bestWaste = 0\n",
    "    for i in range(nRec):\n",
    "        bestWaste = sumArea + arrRec[i][0]\n",
    "    bestWaste = bestWaste - areaPlancha\n",
    "    \n",
    "    def contorno(arrC):\n",
    "        "
   ]
  },
  {
   "cell_type": "code",
   "execution_count": 2,
   "metadata": {},
   "outputs": [
    {
     "name": "stdout",
     "output_type": "stream",
     "text": [
      "[(1, 2), (1, 3), (2, 1), (3, 1)]\n"
     ]
    }
   ],
   "source": [
    "ejemplo = [(1,2),(2,1),(3,1),(1,3)]\n",
    "ejemplo.sort()\n",
    "print(ejemplo)"
   ]
  },
  {
   "cell_type": "code",
   "execution_count": null,
   "metadata": {},
   "outputs": [],
   "source": []
  }
 ],
 "metadata": {
  "kernelspec": {
   "display_name": "Python 3",
   "language": "python",
   "name": "python3"
  },
  "language_info": {
   "codemirror_mode": {
    "name": "ipython",
    "version": 3
   },
   "file_extension": ".py",
   "mimetype": "text/x-python",
   "name": "python",
   "nbconvert_exporter": "python",
   "pygments_lexer": "ipython3",
   "version": "3.7.3"
  }
 },
 "nbformat": 4,
 "nbformat_minor": 4
}
